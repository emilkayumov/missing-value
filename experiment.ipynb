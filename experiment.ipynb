{
 "cells": [
  {
   "cell_type": "code",
   "execution_count": 219,
   "metadata": {
    "collapsed": true
   },
   "outputs": [],
   "source": [
    "% matplotlib inline\n",
    "import matplotlib.pyplot as plt\n",
    "import numpy as np\n",
    "import pandas as pd\n",
    "import random_deletion"
   ]
  },
  {
   "cell_type": "markdown",
   "metadata": {},
   "source": [
    "### Загрузим данные"
   ]
  },
  {
   "cell_type": "code",
   "execution_count": 247,
   "metadata": {
    "collapsed": true
   },
   "outputs": [],
   "source": [
    "creditg = pd.read_csv(\"dataset/credit-g.csv\", header=True)\n",
    "krkp = pd.read_csv(\"dataset/kr-vs-kp.csv\", header=True)\n",
    "segment = pd.read_csv(\"dataset/segment.csv\", header=True)"
   ]
  },
  {
   "cell_type": "markdown",
   "metadata": {},
   "source": [
    "#### KRKP"
   ]
  },
  {
   "cell_type": "code",
   "execution_count": 248,
   "metadata": {
    "collapsed": false
   },
   "outputs": [],
   "source": [
    "krkp.columns = [\"col\" + str(i) for i in range(1, 38)]"
   ]
  },
  {
   "cell_type": "code",
   "execution_count": 249,
   "metadata": {
    "collapsed": false
   },
   "outputs": [
    {
     "name": "stdout",
     "output_type": "stream",
     "text": [
      "['f' 't']\n",
      "['f' 't']\n",
      "['f' 't']\n",
      "['f' 't']\n",
      "['f' 't']\n",
      "['f' 't']\n",
      "['f' 't']\n",
      "['f' 't']\n",
      "['f' 't']\n",
      "['f' 't']\n",
      "['f' 't']\n",
      "['f' 't']\n",
      "['g' 'l']\n",
      "['f' 't']\n",
      "['b' 'n' 'w']\n",
      "['f' 't']\n",
      "['f' 't']\n",
      "['f' 't']\n",
      "['f' 't']\n",
      "['f' 't']\n",
      "['f' 't']\n",
      "['f' 't']\n",
      "['f' 't']\n",
      "['f' 't']\n",
      "['f' 't']\n",
      "['f' 't']\n",
      "['f' 't']\n",
      "['f' 't']\n",
      "['f' 't']\n",
      "['f' 't']\n",
      "['f' 't']\n",
      "['f' 't']\n",
      "['f' 't']\n",
      "['f' 't']\n",
      "['f' 't']\n",
      "['n' 't']\n",
      "['nowin' 'won']\n"
     ]
    }
   ],
   "source": [
    "for i in range(1, 38):\n",
    "    print(np.unique(krkp[\"col\" + str(i)]))"
   ]
  },
  {
   "cell_type": "code",
   "execution_count": 250,
   "metadata": {
    "collapsed": false
   },
   "outputs": [],
   "source": [
    "for i in range(1, 38):\n",
    "    krkp[\"col\" + str(i)] = LabelEncoder().fit_transform(krkp[\"col\" + str(i)])"
   ]
  },
  {
   "cell_type": "code",
   "execution_count": 251,
   "metadata": {
    "collapsed": false
   },
   "outputs": [
    {
     "name": "stdout",
     "output_type": "stream",
     "text": [
      "[0 1]\n",
      "[0 1]\n",
      "[0 1]\n",
      "[0 1]\n",
      "[0 1]\n",
      "[0 1]\n",
      "[0 1]\n",
      "[0 1]\n",
      "[0 1]\n",
      "[0 1]\n",
      "[0 1]\n",
      "[0 1]\n",
      "[0 1]\n",
      "[0 1]\n",
      "[0 1 2]\n",
      "[0 1]\n",
      "[0 1]\n",
      "[0 1]\n",
      "[0 1]\n",
      "[0 1]\n",
      "[0 1]\n",
      "[0 1]\n",
      "[0 1]\n",
      "[0 1]\n",
      "[0 1]\n",
      "[0 1]\n",
      "[0 1]\n",
      "[0 1]\n",
      "[0 1]\n",
      "[0 1]\n",
      "[0 1]\n",
      "[0 1]\n",
      "[0 1]\n",
      "[0 1]\n",
      "[0 1]\n",
      "[0 1]\n",
      "[0 1]\n"
     ]
    }
   ],
   "source": [
    "for i in range(1, 38):\n",
    "    print(np.unique(krkp[\"col\" + str(i)]))"
   ]
  },
  {
   "cell_type": "code",
   "execution_count": 252,
   "metadata": {
    "collapsed": false
   },
   "outputs": [],
   "source": [
    "krkp_y = krkp[\"col37\"]\n",
    "krkp.drop(\"col37\", axis=1, inplace=True)"
   ]
  },
  {
   "cell_type": "code",
   "execution_count": 253,
   "metadata": {
    "collapsed": false
   },
   "outputs": [],
   "source": [
    "krkp = np.array(krkp, dtype='float')\n",
    "krkp_y = np.array(krkp_y)"
   ]
  },
  {
   "cell_type": "code",
   "execution_count": 254,
   "metadata": {
    "collapsed": false
   },
   "outputs": [
    {
     "data": {
      "text/plain": [
       "array([[ 0.,  0.,  0., ...,  1.,  1.,  0.],\n",
       "       [ 0.,  0.,  0., ...,  1.,  1.,  0.],\n",
       "       [ 0.,  0.,  0., ...,  1.,  1.,  0.],\n",
       "       ..., \n",
       "       [ 1.,  0.,  0., ...,  1.,  0.,  0.],\n",
       "       [ 1.,  0.,  1., ...,  0.,  0.,  0.],\n",
       "       [ 1.,  0.,  1., ...,  0.,  0.,  0.]])"
      ]
     },
     "execution_count": 254,
     "metadata": {},
     "output_type": "execute_result"
    }
   ],
   "source": [
    "krkp"
   ]
  },
  {
   "cell_type": "markdown",
   "metadata": {},
   "source": [
    "##### 5 % пропущенных значений во всех объектах и всех признаках."
   ]
  },
  {
   "cell_type": "code",
   "execution_count": 255,
   "metadata": {
    "collapsed": false
   },
   "outputs": [],
   "source": [
    "krkp_del = random_deletion.make_missing_value(krkp, del_fraction=0.05)"
   ]
  },
  {
   "cell_type": "code",
   "execution_count": 256,
   "metadata": {
    "collapsed": false
   },
   "outputs": [
    {
     "data": {
      "text/plain": [
       "array([[  0.,   0.,   0., ...,  nan,   1.,   0.],\n",
       "       [  0.,   0.,   0., ...,   1.,   1.,   0.],\n",
       "       [  0.,   0.,   0., ...,   1.,   1.,   0.],\n",
       "       ..., \n",
       "       [  1.,   0.,   0., ...,   1.,   0.,   0.],\n",
       "       [  1.,   0.,   1., ...,   0.,   0.,   0.],\n",
       "       [  1.,   0.,  nan, ...,   0.,   0.,   0.]])"
      ]
     },
     "execution_count": 256,
     "metadata": {},
     "output_type": "execute_result"
    }
   ],
   "source": [
    "krkp_del"
   ]
  },
  {
   "cell_type": "code",
   "execution_count": 257,
   "metadata": {
    "collapsed": false
   },
   "outputs": [],
   "source": [
    "from sklearn.ensemble import RandomForestClassifier\n",
    "from sklearn.cross_validation import KFold, cross_val_score\n",
    "from sklearn.preprocessing import LabelEncoder"
   ]
  },
  {
   "cell_type": "code",
   "execution_count": 258,
   "metadata": {
    "collapsed": false
   },
   "outputs": [],
   "source": [
    "cv = KFold(krkp_y.shape[0], n_folds=10, shuffle=True, random_state=798)\n",
    "clf = RandomForestClassifier(n_jobs=-1, random_state=567)"
   ]
  },
  {
   "cell_type": "markdown",
   "metadata": {},
   "source": [
    "##### 1. Без пропущенных значений."
   ]
  },
  {
   "cell_type": "code",
   "execution_count": 259,
   "metadata": {
    "collapsed": false,
    "scrolled": false
   },
   "outputs": [
    {
     "name": "stdout",
     "output_type": "stream",
     "text": [
      "0.989672805643\n"
     ]
    }
   ],
   "source": [
    "print(np.mean(cross_val_score(clf, krkp, krkp_y, scoring='accuracy', cv=cv)))"
   ]
  },
  {
   "cell_type": "markdown",
   "metadata": {},
   "source": [
    "##### 2. Игнорируем объекты с пропущенными значениями."
   ]
  },
  {
   "cell_type": "code",
   "execution_count": 260,
   "metadata": {
    "collapsed": false
   },
   "outputs": [
    {
     "name": "stdout",
     "output_type": "stream",
     "text": [
      "count = 522\n"
     ]
    }
   ],
   "source": [
    "mask = np.sum(krkp_del != krkp_del, axis=1) == 0\n",
    "krkp_del_ignore = krkp_del[mask]\n",
    "krkp_y_ignore = krkp_y[mask]\n",
    "print('count =', mask.sum())"
   ]
  },
  {
   "cell_type": "code",
   "execution_count": 261,
   "metadata": {
    "collapsed": false
   },
   "outputs": [
    {
     "name": "stdout",
     "output_type": "stream",
     "text": [
      "0.900535729531\n"
     ]
    }
   ],
   "source": [
    "print(np.mean(cross_val_score(clf, krkp_del_ignore, krkp_y_ignore, scoring='accuracy', cv=10)))"
   ]
  },
  {
   "cell_type": "markdown",
   "metadata": {},
   "source": [
    "##### 3. Заполнение специальным значение (-1)."
   ]
  },
  {
   "cell_type": "code",
   "execution_count": 262,
   "metadata": {
    "collapsed": false
   },
   "outputs": [],
   "source": [
    "mask = krkp_del != krkp_del\n",
    "krkp_del_special = np.array(krkp_del)\n",
    "krkp_del_special[mask] = -1"
   ]
  },
  {
   "cell_type": "code",
   "execution_count": 264,
   "metadata": {
    "collapsed": false
   },
   "outputs": [
    {
     "name": "stdout",
     "output_type": "stream",
     "text": [
      "0.959317202194\n"
     ]
    }
   ],
   "source": [
    "print(np.mean(cross_val_score(clf, krkp_del_special, krkp_y, scoring='accuracy', cv=cv)))"
   ]
  },
  {
   "cell_type": "markdown",
   "metadata": {},
   "source": [
    "##### 4. Заполнение самым частым значением."
   ]
  },
  {
   "cell_type": "code",
   "execution_count": 271,
   "metadata": {
    "collapsed": false
   },
   "outputs": [],
   "source": [
    "from scipy.stats.mstats import mode\n",
    "\n",
    "krkp_del_common = np.array(krkp_del)\n",
    "for i in range(krkp_del_common.shape[1]):\n",
    "    mask = krkp_del_common[:, i] != krkp_del_common[:, i]\n",
    "    krkp_del_common[mask, i] = mode(krkp_del_common[np.logical_not(mask), i])[0][0]"
   ]
  },
  {
   "cell_type": "code",
   "execution_count": 266,
   "metadata": {
    "collapsed": false
   },
   "outputs": [
    {
     "name": "stdout",
     "output_type": "stream",
     "text": [
      "0.95024588558\n"
     ]
    }
   ],
   "source": [
    "print(np.mean(cross_val_score(clf, krkp_del_common, krkp_y, scoring='accuracy', cv=cv)))"
   ]
  },
  {
   "cell_type": "markdown",
   "metadata": {},
   "source": [
    "##### 5. Заполнение с помощью SVD."
   ]
  },
  {
   "cell_type": "code",
   "execution_count": 280,
   "metadata": {
    "collapsed": false
   },
   "outputs": [],
   "source": [
    "import data_recovery\n",
    "from importlib import reload\n",
    "reload(data_recovery)\n",
    "\n",
    "krkp_del_svd = data_recovery.svd_imputer(krkp_del, rank=26)"
   ]
  },
  {
   "cell_type": "code",
   "execution_count": 281,
   "metadata": {
    "collapsed": false
   },
   "outputs": [
    {
     "name": "stdout",
     "output_type": "stream",
     "text": [
      "0.963698079937\n"
     ]
    }
   ],
   "source": [
    "print(np.mean(cross_val_score(clf, krkp_del_svd, krkp_y, scoring='accuracy', cv=cv)))"
   ]
  },
  {
   "cell_type": "code",
   "execution_count": null,
   "metadata": {
    "collapsed": false
   },
   "outputs": [],
   "source": [
    "accuracy = []\n",
    "for i in range(1, 37):\n",
    "    krkp_del_svd = data_recovery.svd_imputer(krkp_del, rank=i)\n",
    "    accuracy.append(np.mean(cross_val_score(clf, krkp_del_svd, krkp_y, scoring='accuracy', cv=cv)))\n",
    "plt.plot(list(range(1, 37)), accuracy)"
   ]
  },
  {
   "cell_type": "code",
   "execution_count": null,
   "metadata": {
    "collapsed": true
   },
   "outputs": [],
   "source": []
  }
 ],
 "metadata": {
  "kernelspec": {
   "display_name": "Python 3",
   "language": "python",
   "name": "python3"
  },
  "language_info": {
   "codemirror_mode": {
    "name": "ipython",
    "version": 3
   },
   "file_extension": ".py",
   "mimetype": "text/x-python",
   "name": "python",
   "nbconvert_exporter": "python",
   "pygments_lexer": "ipython3",
   "version": "3.4.3"
  }
 },
 "nbformat": 4,
 "nbformat_minor": 0
}
