{
 "cells": [
  {
   "cell_type": "code",
   "execution_count": 1,
   "metadata": {
    "collapsed": false
   },
   "outputs": [],
   "source": [
    "% matplotlib inline\n",
    "import matplotlib.pyplot as plt\n",
    "import numpy as np\n",
    "import pandas as pd\n",
    "import random_deletion\n",
    "import imputers\n",
    "import utils\n",
    "\n",
    "from importlib import reload\n",
    "from sklearn.preprocessing import LabelEncoder, scale\n",
    "from sklearn.ensemble import RandomForestClassifier\n",
    "from sklearn.cross_validation import KFold, cross_val_score"
   ]
  },
  {
   "cell_type": "code",
   "execution_count": 2,
   "metadata": {
    "collapsed": false
   },
   "outputs": [],
   "source": [
    "# reload(imputers)\n",
    "# reload(utils)"
   ]
  },
  {
   "cell_type": "markdown",
   "metadata": {},
   "source": [
    "### Загрузим  и подготовим данные"
   ]
  },
  {
   "cell_type": "markdown",
   "metadata": {},
   "source": [
    "1. Сделаем маску для разделения категориальных/порядковых признаков от количественных признаков.\n",
    "2. Заменим все категориальные на числовые.\n",
    "3. Выделим целевой вектор.\n",
    "4. Отмасштабируем количественные признаки."
   ]
  },
  {
   "cell_type": "markdown",
   "metadata": {},
   "source": [
    "#### KRKP\n",
    "\n",
    "Chess (King-Rook vs. King-Pawn) Data Set\n",
    "\n",
    "https://archive.ics.uci.edu/ml/datasets/Chess+%28King-Rook+vs.+King-Pawn%29"
   ]
  },
  {
   "cell_type": "code",
   "execution_count": 3,
   "metadata": {
    "collapsed": true
   },
   "outputs": [],
   "source": [
    "krkp = pd.read_csv(\"dataset/kr-vs-kp.csv\", header=1)"
   ]
  },
  {
   "cell_type": "code",
   "execution_count": 4,
   "metadata": {
    "collapsed": false
   },
   "outputs": [],
   "source": [
    "krkp.columns = [\"col\" + str(i) for i in range(1, krkp.shape[1] + 1)]"
   ]
  },
  {
   "cell_type": "code",
   "execution_count": 5,
   "metadata": {
    "collapsed": true
   },
   "outputs": [],
   "source": [
    "krkp_mask = np.ones(krkp.shape[0], dtype=bool)"
   ]
  },
  {
   "cell_type": "code",
   "execution_count": 6,
   "metadata": {
    "collapsed": false
   },
   "outputs": [],
   "source": [
    "for i in range(1, krkp.shape[1] + 1):\n",
    "    if krkp_mask[i - 1]:\n",
    "        krkp[\"col\" + str(i)] = LabelEncoder().fit_transform(krkp[\"col\" + str(i)])"
   ]
  },
  {
   "cell_type": "code",
   "execution_count": 7,
   "metadata": {
    "collapsed": false
   },
   "outputs": [],
   "source": [
    "krkp_y    = krkp[\"col37\"]\n",
    "krkp_mask = krkp_mask[:-1]\n",
    "krkp.drop(\"col37\", axis=1, inplace=True)"
   ]
  },
  {
   "cell_type": "code",
   "execution_count": 8,
   "metadata": {
    "collapsed": false
   },
   "outputs": [],
   "source": [
    "krkp    = np.array(krkp, dtype='float')\n",
    "krkp_y  = np.array(krkp_y)\n",
    "krkp_cv = KFold(krkp_y.shape[0],    n_folds=10, shuffle=True, random_state=798)"
   ]
  },
  {
   "cell_type": "code",
   "execution_count": 9,
   "metadata": {
    "collapsed": false
   },
   "outputs": [
    {
     "data": {
      "text/plain": [
       "array([[ 0.,  0.,  0., ...,  1.,  1.,  0.],\n",
       "       [ 0.,  0.,  0., ...,  1.,  1.,  0.],\n",
       "       [ 0.,  0.,  0., ...,  1.,  1.,  0.],\n",
       "       ..., \n",
       "       [ 1.,  0.,  0., ...,  1.,  0.,  0.],\n",
       "       [ 1.,  0.,  1., ...,  0.,  0.,  0.],\n",
       "       [ 1.,  0.,  1., ...,  0.,  0.,  0.]])"
      ]
     },
     "execution_count": 9,
     "metadata": {},
     "output_type": "execute_result"
    }
   ],
   "source": [
    "krkp"
   ]
  },
  {
   "cell_type": "markdown",
   "metadata": {},
   "source": [
    "#### Credit-g\n",
    "\n",
    "Statlog (German Credit Data) Data Set \n",
    "\n",
    "https://archive.ics.uci.edu/ml/datasets/Statlog+%28German+Credit+Data%29"
   ]
  },
  {
   "cell_type": "code",
   "execution_count": 10,
   "metadata": {
    "collapsed": false
   },
   "outputs": [],
   "source": [
    "creditg = pd.read_csv(\"dataset/credit-g.csv\", header=1)"
   ]
  },
  {
   "cell_type": "code",
   "execution_count": 11,
   "metadata": {
    "collapsed": false
   },
   "outputs": [],
   "source": [
    "creditg.columns = [\"col\" + str(i) for i in range(1, creditg.shape[1] + 1)]"
   ]
  },
  {
   "cell_type": "code",
   "execution_count": 12,
   "metadata": {
    "collapsed": false
   },
   "outputs": [],
   "source": [
    "creditg_mask     = np.ones(creditg.shape[1], dtype=bool)\n",
    "creditg_mask[1]  = False\n",
    "creditg_mask[4]  = False\n",
    "creditg_mask[12] = False"
   ]
  },
  {
   "cell_type": "code",
   "execution_count": 13,
   "metadata": {
    "collapsed": false
   },
   "outputs": [],
   "source": [
    "for i in range(1, creditg.shape[1] + 1):\n",
    "    if creditg_mask[i - 1]: \n",
    "        creditg[\"col\" + str(i)] = LabelEncoder().fit_transform(creditg[\"col\" + str(i)])"
   ]
  },
  {
   "cell_type": "code",
   "execution_count": 14,
   "metadata": {
    "collapsed": true
   },
   "outputs": [],
   "source": [
    "creditg_y    = creditg['col21']\n",
    "creditg_mask = creditg_mask[:-1]\n",
    "creditg.drop(\"col21\", axis=1, inplace=True)"
   ]
  },
  {
   "cell_type": "code",
   "execution_count": 15,
   "metadata": {
    "collapsed": true
   },
   "outputs": [],
   "source": [
    "creditg    = np.array(creditg, dtype='float')\n",
    "creditg_y  = np.array(creditg_y)\n",
    "creditg_cv = KFold(creditg_y.shape[0], n_folds=10, shuffle=True, random_state=798)"
   ]
  },
  {
   "cell_type": "code",
   "execution_count": 16,
   "metadata": {
    "collapsed": false,
    "scrolled": true
   },
   "outputs": [
    {
     "data": {
      "text/plain": [
       "array([[  1.,   6.,   1., ...,   0.,   1.,   1.],\n",
       "       [  0.,  48.,   3., ...,   0.,   0.,   1.],\n",
       "       [  3.,  12.,   1., ...,   1.,   0.,   1.],\n",
       "       ..., \n",
       "       [  3.,  12.,   3., ...,   0.,   0.,   1.],\n",
       "       [  1.,  45.,   3., ...,   0.,   1.,   1.],\n",
       "       [  0.,  45.,   1., ...,   0.,   0.,   1.]])"
      ]
     },
     "execution_count": 16,
     "metadata": {},
     "output_type": "execute_result"
    }
   ],
   "source": [
    "creditg"
   ]
  },
  {
   "cell_type": "code",
   "execution_count": 17,
   "metadata": {
    "collapsed": true
   },
   "outputs": [],
   "source": [
    "creditg = scale(creditg)"
   ]
  },
  {
   "cell_type": "markdown",
   "metadata": {},
   "source": [
    "#### Segment\n",
    "\n",
    "Image Segmentation Data Set \n",
    "\n",
    "https://archive.ics.uci.edu/ml/datasets/Image+Segmentation"
   ]
  },
  {
   "cell_type": "code",
   "execution_count": 18,
   "metadata": {
    "collapsed": true
   },
   "outputs": [],
   "source": [
    "segment = pd.read_csv(\"dataset/segment.csv\",  header=1)"
   ]
  },
  {
   "cell_type": "code",
   "execution_count": 19,
   "metadata": {
    "collapsed": true
   },
   "outputs": [],
   "source": [
    "segment.columns = [\"col\" + str(i) for i in range(1, segment.shape[1] + 1)]"
   ]
  },
  {
   "cell_type": "code",
   "execution_count": 20,
   "metadata": {
    "collapsed": false
   },
   "outputs": [],
   "source": [
    "segment_mask     = np.zeros(segment.shape[0], dtype=bool)\n",
    "segment_mask[19] = True"
   ]
  },
  {
   "cell_type": "code",
   "execution_count": 21,
   "metadata": {
    "collapsed": false
   },
   "outputs": [],
   "source": [
    "for i in range(1, segment.shape[1] + 1):\n",
    "    if segment_mask[i - 1]:\n",
    "        segment[\"col\" + str(i)] = LabelEncoder().fit_transform(segment[\"col\" + str(i)])"
   ]
  },
  {
   "cell_type": "code",
   "execution_count": 22,
   "metadata": {
    "collapsed": true
   },
   "outputs": [],
   "source": [
    "segment_y    = segment['col20']\n",
    "segment_mask = segment_mask[:-1]\n",
    "segment.drop(\"col20\", axis=1, inplace=True)"
   ]
  },
  {
   "cell_type": "code",
   "execution_count": 23,
   "metadata": {
    "collapsed": true
   },
   "outputs": [],
   "source": [
    "segment    = np.array(segment, dtype='float')\n",
    "segment_y  = np.array(segment_y)\n",
    "segment_cv = KFold(segment_y.shape[0], n_folds=10, shuffle=True, random_state=798)"
   ]
  },
  {
   "cell_type": "code",
   "execution_count": 24,
   "metadata": {
    "collapsed": false
   },
   "outputs": [
    {
     "data": {
      "text/plain": [
       "array([[  2.18000000e+02,   1.78000000e+02,   9.00000000e+00, ...,\n",
       "          7.52222000e+01,   3.18996000e-01,  -2.04055000e+00],\n",
       "       [  1.13000000e+02,   1.30000000e+02,   9.00000000e+00, ...,\n",
       "          2.55556000e+00,   1.00000000e+00,  -2.12325000e+00],\n",
       "       [  2.02000000e+02,   4.10000000e+01,   9.00000000e+00, ...,\n",
       "          1.39778000e+02,   1.99347000e-01,  -2.29992000e+00],\n",
       "       ..., \n",
       "       [  8.00000000e+01,   7.20000000e+01,   9.00000000e+00, ...,\n",
       "          7.44444000e+01,   3.14606000e-01,  -2.09022000e+00],\n",
       "       [  9.80000000e+01,   1.33000000e+02,   9.00000000e+00, ...,\n",
       "          2.77778000e+00,   1.00000000e+00,  -2.12325000e+00],\n",
       "       [  1.90000000e+01,   1.47000000e+02,   9.00000000e+00, ...,\n",
       "          7.00000000e+00,   7.13228000e-01,  -1.47564000e+00]])"
      ]
     },
     "execution_count": 24,
     "metadata": {},
     "output_type": "execute_result"
    }
   ],
   "source": [
    "segment"
   ]
  },
  {
   "cell_type": "code",
   "execution_count": 25,
   "metadata": {
    "collapsed": false
   },
   "outputs": [],
   "source": [
    "segment = scale(segment)"
   ]
  },
  {
   "cell_type": "markdown",
   "metadata": {},
   "source": [
    "#### Horse\n",
    "\n",
    "Horse Colic Data Set \n",
    "\n",
    "https://archive.ics.uci.edu/ml/datasets/Horse+Colic"
   ]
  },
  {
   "cell_type": "code",
   "execution_count": 26,
   "metadata": {
    "collapsed": false
   },
   "outputs": [],
   "source": [
    "cols = ['col' + str(i) for i in range(28)]\n",
    "horse = pd.DataFrame(columns=cols)\n",
    "\n",
    "with open('dataset/horse-colic.data.txt', 'r') as file:\n",
    "    for s in file:\n",
    "        s = s.rstrip()\n",
    "        horse = horse.append(pd.DataFrame(np.array(s.split(' ')).reshape((1, -1)), columns=cols))"
   ]
  },
  {
   "cell_type": "code",
   "execution_count": 27,
   "metadata": {
    "collapsed": false
   },
   "outputs": [],
   "source": [
    "horse[horse == '?'] = np.nan\n",
    "\n",
    "horse_y = np.array(horse.col23, dtype=int)\n",
    "horse.drop(['col2', 'col23' , 'col24', 'col25', 'col26', 'col27'], axis=1, inplace=True)\n",
    "\n",
    "horse = np.array(horse, dtype=float)\n",
    "horse_cv = KFold(horse_y.shape[0], n_folds=10, shuffle=True, random_state=798)"
   ]
  },
  {
   "cell_type": "code",
   "execution_count": 28,
   "metadata": {
    "collapsed": false
   },
   "outputs": [
    {
     "data": {
      "text/plain": [
       "array([[  2. ,   1. ,  38.5, ...,   nan,   nan,   2. ],\n",
       "       [  1. ,   1. ,  39.2, ...,   2. ,   2. ,   3. ],\n",
       "       [  2. ,   1. ,  38.3, ...,   nan,   nan,   1. ],\n",
       "       ..., \n",
       "       [  1. ,   1. ,  37.5, ...,   nan,   nan,   2. ],\n",
       "       [  1. ,   1. ,  36.5, ...,   3. ,   3.4,   1. ],\n",
       "       [  1. ,   1. ,  37.2, ...,   1. ,   1. ,   3. ]])"
      ]
     },
     "execution_count": 28,
     "metadata": {},
     "output_type": "execute_result"
    }
   ],
   "source": [
    "horse"
   ]
  },
  {
   "cell_type": "code",
   "execution_count": 29,
   "metadata": {
    "collapsed": true
   },
   "outputs": [],
   "source": [
    "horse_mask = np.ones(horse.shape[1], dtype=bool)\n",
    "\n",
    "horse_mask[2] = False\n",
    "horse_mask[3] = False\n",
    "horse_mask[4] = False\n",
    "horse_mask[14] = False\n",
    "horse_mask[17] = False\n",
    "horse_mask[18] = False\n",
    "horse_mask[20] = False"
   ]
  },
  {
   "cell_type": "code",
   "execution_count": 30,
   "metadata": {
    "collapsed": false
   },
   "outputs": [
    {
     "data": {
      "text/plain": [
       "array([[  2. ,   1. ,  38.5, ...,   nan,   nan,   2. ],\n",
       "       [  1. ,   1. ,  39.2, ...,   2. ,   2. ,   3. ],\n",
       "       [  2. ,   1. ,  38.3, ...,   nan,   nan,   1. ],\n",
       "       ..., \n",
       "       [  1. ,   1. ,  37.5, ...,   nan,   nan,   2. ],\n",
       "       [  1. ,   1. ,  36.5, ...,   3. ,   3.4,   1. ],\n",
       "       [  1. ,   1. ,  37.2, ...,   1. ,   1. ,   3. ]])"
      ]
     },
     "execution_count": 30,
     "metadata": {},
     "output_type": "execute_result"
    }
   ],
   "source": [
    "horse"
   ]
  },
  {
   "cell_type": "code",
   "execution_count": 31,
   "metadata": {
    "collapsed": false
   },
   "outputs": [],
   "source": [
    "for i in range(horse.shape[1]):\n",
    "    mask = np.isnan(horse[:, i])\n",
    "    horse[~ mask, i] = scale(horse[~ mask, i])"
   ]
  },
  {
   "cell_type": "markdown",
   "metadata": {},
   "source": [
    "#### Votes\n",
    "\n",
    "Congressional Voting Records Data Set \n",
    "\n",
    "https://archive.ics.uci.edu/ml/datasets/Congressional+Voting+Records"
   ]
  },
  {
   "cell_type": "code",
   "execution_count": 32,
   "metadata": {
    "collapsed": false
   },
   "outputs": [],
   "source": [
    "cols = ['col' + str(i) for i in range(17)]\n",
    "votes = pd.DataFrame(columns=cols)\n",
    "\n",
    "with open('dataset/house-votes-84.data.txt', 'r') as file:\n",
    "    for s in file:\n",
    "        s = s.rstrip()\n",
    "        votes = votes.append(pd.DataFrame(np.array(s.split(',')).reshape((1, -1)), columns=cols))"
   ]
  },
  {
   "cell_type": "code",
   "execution_count": 33,
   "metadata": {
    "collapsed": false
   },
   "outputs": [],
   "source": [
    "votes[votes == '?'] = np.nan\n",
    "votes[votes == 'y'] = 1\n",
    "votes[votes == 'n'] = 0\n",
    "\n",
    "votes_y = LabelEncoder().fit_transform(votes.col0)\n",
    "votes.drop('col0', axis=1, inplace=True)\n",
    "\n",
    "votes      = np.array(votes, dtype=float)\n",
    "votes_cv   = KFold(votes_y.shape[0], n_folds=10, shuffle=True, random_state=798)\n",
    "votes_mask = np.ones(votes.shape[1])"
   ]
  },
  {
   "cell_type": "code",
   "execution_count": 34,
   "metadata": {
    "collapsed": false
   },
   "outputs": [
    {
     "data": {
      "text/plain": [
       "array([[  0.,   1.,   0., ...,   1.,   0.,   1.],\n",
       "       [  0.,   1.,   0., ...,   1.,   0.,  nan],\n",
       "       [ nan,   1.,   1., ...,   1.,   0.,   0.],\n",
       "       ..., \n",
       "       [  0.,  nan,   0., ...,   1.,   0.,   1.],\n",
       "       [  0.,   0.,   0., ...,   1.,   0.,   1.],\n",
       "       [  0.,   1.,   0., ...,   1.,  nan,   0.]])"
      ]
     },
     "execution_count": 34,
     "metadata": {},
     "output_type": "execute_result"
    }
   ],
   "source": [
    "votes"
   ]
  },
  {
   "cell_type": "markdown",
   "metadata": {},
   "source": [
    "#### Cancer\n",
    "\n",
    "Breast Cancer Wisconsin (Original) Data Set\n",
    "\n",
    "https://archive.ics.uci.edu/ml/datasets/Breast+Cancer+Wisconsin+%28Original%29"
   ]
  },
  {
   "cell_type": "code",
   "execution_count": 35,
   "metadata": {
    "collapsed": false
   },
   "outputs": [],
   "source": [
    "cols = ['col' + str(i) for i in range(10)]\n",
    "cancer = pd.DataFrame(columns=cols)\n",
    "\n",
    "with open('dataset/breast-cancer-wisconsin.data.txt', 'r') as file:\n",
    "    for s in file:\n",
    "        s = s.rstrip()\n",
    "        cancer = cancer.append(pd.DataFrame(np.array(s.split(',')[1:]).reshape((1, -1)), columns=cols))"
   ]
  },
  {
   "cell_type": "code",
   "execution_count": 36,
   "metadata": {
    "collapsed": false
   },
   "outputs": [],
   "source": [
    "cancer_y = np.array(cancer.col9, dtype=int)\n",
    "cancer_y[cancer_y == 2] = 0\n",
    "cancer_y[cancer_y == 4] = 1\n",
    "\n",
    "cancer[cancer == '?'] = np.nan\n",
    "cancer.drop('col9', axis=1, inplace=True)\n",
    "cancer = np.array(cancer, dtype=float)\n",
    "\n",
    "cancer_cv   = KFold(cancer_y.shape[0], n_folds=10, shuffle=True, random_state=798)\n",
    "cancer_mask = np.zeros(cancer.shape[1])"
   ]
  },
  {
   "cell_type": "code",
   "execution_count": 37,
   "metadata": {
    "collapsed": false
   },
   "outputs": [
    {
     "data": {
      "text/plain": [
       "array([[  5.,   1.,   1., ...,   3.,   1.,   1.],\n",
       "       [  5.,   4.,   4., ...,   3.,   2.,   1.],\n",
       "       [  3.,   1.,   1., ...,   3.,   1.,   1.],\n",
       "       ..., \n",
       "       [  5.,  10.,  10., ...,   8.,  10.,   2.],\n",
       "       [  4.,   8.,   6., ...,  10.,   6.,   1.],\n",
       "       [  4.,   8.,   8., ...,  10.,   4.,   1.]])"
      ]
     },
     "execution_count": 37,
     "metadata": {},
     "output_type": "execute_result"
    }
   ],
   "source": [
    "cancer"
   ]
  },
  {
   "cell_type": "code",
   "execution_count": 38,
   "metadata": {
    "collapsed": false
   },
   "outputs": [],
   "source": [
    "for i in range(cancer.shape[1]):\n",
    "    mask = np.isnan(cancer[:, i])\n",
    "    cancer[~ mask, i] = scale(cancer[~ mask, i])"
   ]
  },
  {
   "cell_type": "markdown",
   "metadata": {},
   "source": [
    "Заметим, что три первых датасета не имеют пропущенных значений, три последних имеют натуральные пропуски в данных."
   ]
  },
  {
   "cell_type": "markdown",
   "metadata": {},
   "source": [
    "### Сравнение методов."
   ]
  },
  {
   "cell_type": "markdown",
   "metadata": {},
   "source": [
    "##### 5 % пропущенных значений во всех объектах и всех признаках."
   ]
  },
  {
   "cell_type": "code",
   "execution_count": 39,
   "metadata": {
    "collapsed": false
   },
   "outputs": [],
   "source": [
    "krkp_del    = random_deletion.make_missing_value(krkp,    del_fraction=0.05)\n",
    "creditg_del = random_deletion.make_missing_value(creditg, del_fraction=0.05)\n",
    "segment_del = random_deletion.make_missing_value(segment, del_fraction=0.05)"
   ]
  },
  {
   "cell_type": "markdown",
   "metadata": {},
   "source": [
    "Для каждого из используемых методов машинного обучения будем показывать отставание методов восстановления пропусков от лучшего результата."
   ]
  },
  {
   "cell_type": "markdown",
   "metadata": {},
   "source": [
    "#### KRKP"
   ]
  },
  {
   "cell_type": "code",
   "execution_count": 40,
   "metadata": {
    "collapsed": false
   },
   "outputs": [],
   "source": [
    "res_krkp = utils.dataset_exps(krkp_del, krkp_y, krkp_mask, krkp_cv)"
   ]
  },
  {
   "cell_type": "code",
   "execution_count": 41,
   "metadata": {
    "collapsed": false
   },
   "outputs": [
    {
     "data": {
      "text/html": [
       "<div>\n",
       "<table border=\"1\" class=\"dataframe\">\n",
       "  <thead>\n",
       "    <tr style=\"text-align: right;\">\n",
       "      <th></th>\n",
       "      <th>RF</th>\n",
       "      <th>LR</th>\n",
       "      <th>kNN</th>\n",
       "    </tr>\n",
       "  </thead>\n",
       "  <tbody>\n",
       "    <tr>\n",
       "      <th>ignore</th>\n",
       "      <td>-0.031873</td>\n",
       "      <td>-0.006068</td>\n",
       "      <td>-0.186695</td>\n",
       "    </tr>\n",
       "    <tr>\n",
       "      <th>special</th>\n",
       "      <td>-0.010326</td>\n",
       "      <td>-0.091353</td>\n",
       "      <td>-0.084504</td>\n",
       "    </tr>\n",
       "    <tr>\n",
       "      <th>common</th>\n",
       "      <td>-0.005324</td>\n",
       "      <td>-0.012206</td>\n",
       "      <td>-0.011895</td>\n",
       "    </tr>\n",
       "    <tr>\n",
       "      <th>svd</th>\n",
       "      <td>-0.005946</td>\n",
       "      <td>-0.008450</td>\n",
       "      <td>-0.013770</td>\n",
       "    </tr>\n",
       "    <tr>\n",
       "      <th>knn</th>\n",
       "      <td>-0.007825</td>\n",
       "      <td>-0.005322</td>\n",
       "      <td>-0.003764</td>\n",
       "    </tr>\n",
       "    <tr>\n",
       "      <th>rf</th>\n",
       "      <td>-0.004062</td>\n",
       "      <td>-0.002502</td>\n",
       "      <td>-0.001561</td>\n",
       "    </tr>\n",
       "    <tr>\n",
       "      <th>lr</th>\n",
       "      <td>0.000000</td>\n",
       "      <td>0.000000</td>\n",
       "      <td>-0.003129</td>\n",
       "    </tr>\n",
       "    <tr>\n",
       "      <th>em</th>\n",
       "      <td>0.000000</td>\n",
       "      <td>-0.001251</td>\n",
       "      <td>0.000000</td>\n",
       "    </tr>\n",
       "    <tr>\n",
       "      <th>k-means</th>\n",
       "      <td>-0.008757</td>\n",
       "      <td>-0.011576</td>\n",
       "      <td>-0.007509</td>\n",
       "    </tr>\n",
       "  </tbody>\n",
       "</table>\n",
       "</div>"
      ],
      "text/plain": [
       "               RF        LR       kNN\n",
       "ignore  -0.031873 -0.006068 -0.186695\n",
       "special -0.010326 -0.091353 -0.084504\n",
       "common  -0.005324 -0.012206 -0.011895\n",
       "svd     -0.005946 -0.008450 -0.013770\n",
       "knn     -0.007825 -0.005322 -0.003764\n",
       "rf      -0.004062 -0.002502 -0.001561\n",
       "lr       0.000000  0.000000 -0.003129\n",
       "em       0.000000 -0.001251  0.000000\n",
       "k-means -0.008757 -0.011576 -0.007509"
      ]
     },
     "execution_count": 41,
     "metadata": {},
     "output_type": "execute_result"
    }
   ],
   "source": [
    "res_krkp - res_krkp.max(axis=0)"
   ]
  },
  {
   "cell_type": "markdown",
   "metadata": {},
   "source": [
    "#### Creditg"
   ]
  },
  {
   "cell_type": "code",
   "execution_count": 42,
   "metadata": {
    "collapsed": false
   },
   "outputs": [],
   "source": [
    "res_creditg = utils.dataset_exps(creditg_del, creditg_y, creditg_mask, creditg_cv)"
   ]
  },
  {
   "cell_type": "code",
   "execution_count": 43,
   "metadata": {
    "collapsed": false
   },
   "outputs": [
    {
     "data": {
      "text/html": [
       "<div>\n",
       "<table border=\"1\" class=\"dataframe\">\n",
       "  <thead>\n",
       "    <tr style=\"text-align: right;\">\n",
       "      <th></th>\n",
       "      <th>RF</th>\n",
       "      <th>LR</th>\n",
       "      <th>kNN</th>\n",
       "    </tr>\n",
       "  </thead>\n",
       "  <tbody>\n",
       "    <tr>\n",
       "      <th>ignore</th>\n",
       "      <td>-0.012355</td>\n",
       "      <td>0.000000</td>\n",
       "      <td>-0.006906</td>\n",
       "    </tr>\n",
       "    <tr>\n",
       "      <th>special</th>\n",
       "      <td>-0.016000</td>\n",
       "      <td>-0.006903</td>\n",
       "      <td>-0.001000</td>\n",
       "    </tr>\n",
       "    <tr>\n",
       "      <th>common</th>\n",
       "      <td>-0.037000</td>\n",
       "      <td>-0.008903</td>\n",
       "      <td>-0.014000</td>\n",
       "    </tr>\n",
       "    <tr>\n",
       "      <th>svd</th>\n",
       "      <td>-0.028000</td>\n",
       "      <td>-0.012903</td>\n",
       "      <td>0.000000</td>\n",
       "    </tr>\n",
       "    <tr>\n",
       "      <th>knn</th>\n",
       "      <td>-0.022000</td>\n",
       "      <td>-0.004903</td>\n",
       "      <td>-0.009000</td>\n",
       "    </tr>\n",
       "    <tr>\n",
       "      <th>rf</th>\n",
       "      <td>-0.023000</td>\n",
       "      <td>-0.012903</td>\n",
       "      <td>-0.010000</td>\n",
       "    </tr>\n",
       "    <tr>\n",
       "      <th>lr</th>\n",
       "      <td>-0.002000</td>\n",
       "      <td>-0.008903</td>\n",
       "      <td>-0.016000</td>\n",
       "    </tr>\n",
       "    <tr>\n",
       "      <th>em</th>\n",
       "      <td>0.000000</td>\n",
       "      <td>-0.008903</td>\n",
       "      <td>-0.017000</td>\n",
       "    </tr>\n",
       "    <tr>\n",
       "      <th>k-means</th>\n",
       "      <td>-0.018000</td>\n",
       "      <td>-0.003903</td>\n",
       "      <td>-0.017000</td>\n",
       "    </tr>\n",
       "  </tbody>\n",
       "</table>\n",
       "</div>"
      ],
      "text/plain": [
       "               RF        LR       kNN\n",
       "ignore  -0.012355  0.000000 -0.006906\n",
       "special -0.016000 -0.006903 -0.001000\n",
       "common  -0.037000 -0.008903 -0.014000\n",
       "svd     -0.028000 -0.012903  0.000000\n",
       "knn     -0.022000 -0.004903 -0.009000\n",
       "rf      -0.023000 -0.012903 -0.010000\n",
       "lr      -0.002000 -0.008903 -0.016000\n",
       "em       0.000000 -0.008903 -0.017000\n",
       "k-means -0.018000 -0.003903 -0.017000"
      ]
     },
     "execution_count": 43,
     "metadata": {},
     "output_type": "execute_result"
    }
   ],
   "source": [
    "res_creditg - res_creditg.max(axis=0)"
   ]
  },
  {
   "cell_type": "markdown",
   "metadata": {},
   "source": [
    "#### Segment"
   ]
  },
  {
   "cell_type": "code",
   "execution_count": 44,
   "metadata": {
    "collapsed": true
   },
   "outputs": [],
   "source": [
    "res_segment = utils.dataset_exps(segment_del, segment_y, segment_mask, segment_cv)"
   ]
  },
  {
   "cell_type": "code",
   "execution_count": 60,
   "metadata": {
    "collapsed": false
   },
   "outputs": [
    {
     "data": {
      "text/html": [
       "<div>\n",
       "<table border=\"1\" class=\"dataframe\">\n",
       "  <thead>\n",
       "    <tr style=\"text-align: right;\">\n",
       "      <th></th>\n",
       "      <th>RF</th>\n",
       "      <th>LR</th>\n",
       "      <th>kNN</th>\n",
       "    </tr>\n",
       "  </thead>\n",
       "  <tbody>\n",
       "    <tr>\n",
       "      <th>ignore</th>\n",
       "      <td>-0.003024</td>\n",
       "      <td>-0.004757</td>\n",
       "      <td>-0.016194</td>\n",
       "    </tr>\n",
       "    <tr>\n",
       "      <th>special</th>\n",
       "      <td>-0.015152</td>\n",
       "      <td>-0.048918</td>\n",
       "      <td>-0.027273</td>\n",
       "    </tr>\n",
       "    <tr>\n",
       "      <th>common</th>\n",
       "      <td>-0.015152</td>\n",
       "      <td>-0.022944</td>\n",
       "      <td>-0.015152</td>\n",
       "    </tr>\n",
       "    <tr>\n",
       "      <th>svd</th>\n",
       "      <td>-0.014719</td>\n",
       "      <td>-0.014286</td>\n",
       "      <td>-0.012121</td>\n",
       "    </tr>\n",
       "    <tr>\n",
       "      <th>knn</th>\n",
       "      <td>-0.003030</td>\n",
       "      <td>-0.004762</td>\n",
       "      <td>-0.002165</td>\n",
       "    </tr>\n",
       "    <tr>\n",
       "      <th>rf</th>\n",
       "      <td>0.000000</td>\n",
       "      <td>0.000000</td>\n",
       "      <td>0.000000</td>\n",
       "    </tr>\n",
       "    <tr>\n",
       "      <th>lr</th>\n",
       "      <td>-0.011255</td>\n",
       "      <td>-0.008225</td>\n",
       "      <td>-0.007359</td>\n",
       "    </tr>\n",
       "    <tr>\n",
       "      <th>em</th>\n",
       "      <td>-0.008225</td>\n",
       "      <td>-0.009957</td>\n",
       "      <td>-0.007792</td>\n",
       "    </tr>\n",
       "    <tr>\n",
       "      <th>k-means</th>\n",
       "      <td>-0.012121</td>\n",
       "      <td>-0.014719</td>\n",
       "      <td>-0.009957</td>\n",
       "    </tr>\n",
       "  </tbody>\n",
       "</table>\n",
       "</div>"
      ],
      "text/plain": [
       "               RF        LR       kNN\n",
       "ignore  -0.003024 -0.004757 -0.016194\n",
       "special -0.015152 -0.048918 -0.027273\n",
       "common  -0.015152 -0.022944 -0.015152\n",
       "svd     -0.014719 -0.014286 -0.012121\n",
       "knn     -0.003030 -0.004762 -0.002165\n",
       "rf       0.000000  0.000000  0.000000\n",
       "lr      -0.011255 -0.008225 -0.007359\n",
       "em      -0.008225 -0.009957 -0.007792\n",
       "k-means -0.012121 -0.014719 -0.009957"
      ]
     },
     "execution_count": 60,
     "metadata": {},
     "output_type": "execute_result"
    }
   ],
   "source": [
    "res_segment - res_segment.max(axis=0)"
   ]
  },
  {
   "cell_type": "markdown",
   "metadata": {},
   "source": [
    "#### Horse"
   ]
  },
  {
   "cell_type": "code",
   "execution_count": 46,
   "metadata": {
    "collapsed": true
   },
   "outputs": [],
   "source": [
    "res_horse = utils.dataset_exps(horse, horse_y, horse_mask, horse_cv)"
   ]
  },
  {
   "cell_type": "code",
   "execution_count": 61,
   "metadata": {
    "collapsed": false
   },
   "outputs": [
    {
     "data": {
      "text/html": [
       "<div>\n",
       "<table border=\"1\" class=\"dataframe\">\n",
       "  <thead>\n",
       "    <tr style=\"text-align: right;\">\n",
       "      <th></th>\n",
       "      <th>RF</th>\n",
       "      <th>LR</th>\n",
       "      <th>kNN</th>\n",
       "    </tr>\n",
       "  </thead>\n",
       "  <tbody>\n",
       "    <tr>\n",
       "      <th>special</th>\n",
       "      <td>-0.013333</td>\n",
       "      <td>0.000000</td>\n",
       "      <td>0.000000</td>\n",
       "    </tr>\n",
       "    <tr>\n",
       "      <th>common</th>\n",
       "      <td>0.000000</td>\n",
       "      <td>-0.010000</td>\n",
       "      <td>-0.013333</td>\n",
       "    </tr>\n",
       "    <tr>\n",
       "      <th>svd</th>\n",
       "      <td>-0.036667</td>\n",
       "      <td>0.000000</td>\n",
       "      <td>0.000000</td>\n",
       "    </tr>\n",
       "    <tr>\n",
       "      <th>knn</th>\n",
       "      <td>-0.006667</td>\n",
       "      <td>-0.016667</td>\n",
       "      <td>-0.013333</td>\n",
       "    </tr>\n",
       "    <tr>\n",
       "      <th>rf</th>\n",
       "      <td>-0.026667</td>\n",
       "      <td>-0.023333</td>\n",
       "      <td>-0.020000</td>\n",
       "    </tr>\n",
       "    <tr>\n",
       "      <th>lr</th>\n",
       "      <td>-0.020000</td>\n",
       "      <td>-0.020000</td>\n",
       "      <td>-0.023333</td>\n",
       "    </tr>\n",
       "    <tr>\n",
       "      <th>em</th>\n",
       "      <td>-0.040000</td>\n",
       "      <td>-0.016667</td>\n",
       "      <td>0.000000</td>\n",
       "    </tr>\n",
       "    <tr>\n",
       "      <th>k-means</th>\n",
       "      <td>-0.033333</td>\n",
       "      <td>-0.016667</td>\n",
       "      <td>-0.003333</td>\n",
       "    </tr>\n",
       "  </tbody>\n",
       "</table>\n",
       "</div>"
      ],
      "text/plain": [
       "               RF        LR       kNN\n",
       "special -0.013333  0.000000  0.000000\n",
       "common   0.000000 -0.010000 -0.013333\n",
       "svd     -0.036667  0.000000  0.000000\n",
       "knn     -0.006667 -0.016667 -0.013333\n",
       "rf      -0.026667 -0.023333 -0.020000\n",
       "lr      -0.020000 -0.020000 -0.023333\n",
       "em      -0.040000 -0.016667  0.000000\n",
       "k-means -0.033333 -0.016667 -0.003333"
      ]
     },
     "execution_count": 61,
     "metadata": {},
     "output_type": "execute_result"
    }
   ],
   "source": [
    "res_horse - res_horse.max(axis=0)"
   ]
  },
  {
   "cell_type": "markdown",
   "metadata": {},
   "source": [
    "#### Votes"
   ]
  },
  {
   "cell_type": "code",
   "execution_count": 48,
   "metadata": {
    "collapsed": true
   },
   "outputs": [],
   "source": [
    "res_votes = utils.dataset_exps(votes, votes_y, votes_mask, votes_cv)"
   ]
  },
  {
   "cell_type": "code",
   "execution_count": 62,
   "metadata": {
    "collapsed": false
   },
   "outputs": [
    {
     "data": {
      "text/html": [
       "<div>\n",
       "<table border=\"1\" class=\"dataframe\">\n",
       "  <thead>\n",
       "    <tr style=\"text-align: right;\">\n",
       "      <th></th>\n",
       "      <th>RF</th>\n",
       "      <th>LR</th>\n",
       "      <th>kNN</th>\n",
       "    </tr>\n",
       "  </thead>\n",
       "  <tbody>\n",
       "    <tr>\n",
       "      <th>ignore</th>\n",
       "      <td>-0.001909</td>\n",
       "      <td>-0.008326</td>\n",
       "      <td>-0.022221</td>\n",
       "    </tr>\n",
       "    <tr>\n",
       "      <th>special</th>\n",
       "      <td>-0.009249</td>\n",
       "      <td>-0.016332</td>\n",
       "      <td>-0.034619</td>\n",
       "    </tr>\n",
       "    <tr>\n",
       "      <th>common</th>\n",
       "      <td>-0.004598</td>\n",
       "      <td>-0.002326</td>\n",
       "      <td>-0.016121</td>\n",
       "    </tr>\n",
       "    <tr>\n",
       "      <th>svd</th>\n",
       "      <td>-0.002431</td>\n",
       "      <td>-0.006977</td>\n",
       "      <td>-0.009302</td>\n",
       "    </tr>\n",
       "    <tr>\n",
       "      <th>knn</th>\n",
       "      <td>-0.004598</td>\n",
       "      <td>-0.000106</td>\n",
       "      <td>-0.018446</td>\n",
       "    </tr>\n",
       "    <tr>\n",
       "      <th>rf</th>\n",
       "      <td>-0.009249</td>\n",
       "      <td>0.000000</td>\n",
       "      <td>-0.013848</td>\n",
       "    </tr>\n",
       "    <tr>\n",
       "      <th>lr</th>\n",
       "      <td>-0.009249</td>\n",
       "      <td>-0.009302</td>\n",
       "      <td>-0.011469</td>\n",
       "    </tr>\n",
       "    <tr>\n",
       "      <th>em</th>\n",
       "      <td>-0.004757</td>\n",
       "      <td>-0.002378</td>\n",
       "      <td>-0.009249</td>\n",
       "    </tr>\n",
       "    <tr>\n",
       "      <th>k-means</th>\n",
       "      <td>0.000000</td>\n",
       "      <td>-0.006977</td>\n",
       "      <td>0.000000</td>\n",
       "    </tr>\n",
       "  </tbody>\n",
       "</table>\n",
       "</div>"
      ],
      "text/plain": [
       "               RF        LR       kNN\n",
       "ignore  -0.001909 -0.008326 -0.022221\n",
       "special -0.009249 -0.016332 -0.034619\n",
       "common  -0.004598 -0.002326 -0.016121\n",
       "svd     -0.002431 -0.006977 -0.009302\n",
       "knn     -0.004598 -0.000106 -0.018446\n",
       "rf      -0.009249  0.000000 -0.013848\n",
       "lr      -0.009249 -0.009302 -0.011469\n",
       "em      -0.004757 -0.002378 -0.009249\n",
       "k-means  0.000000 -0.006977  0.000000"
      ]
     },
     "execution_count": 62,
     "metadata": {},
     "output_type": "execute_result"
    }
   ],
   "source": [
    "res_votes - res_votes.max(axis=0)"
   ]
  },
  {
   "cell_type": "markdown",
   "metadata": {},
   "source": [
    "#### Cancer"
   ]
  },
  {
   "cell_type": "code",
   "execution_count": 50,
   "metadata": {
    "collapsed": true
   },
   "outputs": [],
   "source": [
    "res_cancer = utils.dataset_exps(cancer, cancer_y, cancer_mask, cancer_cv)"
   ]
  },
  {
   "cell_type": "code",
   "execution_count": 64,
   "metadata": {
    "collapsed": false
   },
   "outputs": [
    {
     "data": {
      "text/html": [
       "<div>\n",
       "<table border=\"1\" class=\"dataframe\">\n",
       "  <thead>\n",
       "    <tr style=\"text-align: right;\">\n",
       "      <th></th>\n",
       "      <th>RF</th>\n",
       "      <th>LR</th>\n",
       "      <th>kNN</th>\n",
       "    </tr>\n",
       "  </thead>\n",
       "  <tbody>\n",
       "    <tr>\n",
       "      <th>ignore</th>\n",
       "      <td>0.000000</td>\n",
       "      <td>0.000000</td>\n",
       "      <td>0.000000</td>\n",
       "    </tr>\n",
       "    <tr>\n",
       "      <th>special</th>\n",
       "      <td>-0.007798</td>\n",
       "      <td>-0.000866</td>\n",
       "      <td>-0.002251</td>\n",
       "    </tr>\n",
       "    <tr>\n",
       "      <th>common</th>\n",
       "      <td>-0.006369</td>\n",
       "      <td>-0.002294</td>\n",
       "      <td>-0.002251</td>\n",
       "    </tr>\n",
       "    <tr>\n",
       "      <th>svd</th>\n",
       "      <td>-0.004941</td>\n",
       "      <td>-0.002294</td>\n",
       "      <td>-0.002251</td>\n",
       "    </tr>\n",
       "    <tr>\n",
       "      <th>knn</th>\n",
       "      <td>-0.002084</td>\n",
       "      <td>-0.002294</td>\n",
       "      <td>-0.002251</td>\n",
       "    </tr>\n",
       "    <tr>\n",
       "      <th>rf</th>\n",
       "      <td>-0.004941</td>\n",
       "      <td>-0.002294</td>\n",
       "      <td>-0.002251</td>\n",
       "    </tr>\n",
       "    <tr>\n",
       "      <th>lr</th>\n",
       "      <td>-0.002084</td>\n",
       "      <td>-0.002294</td>\n",
       "      <td>-0.002251</td>\n",
       "    </tr>\n",
       "    <tr>\n",
       "      <th>em</th>\n",
       "      <td>-0.002084</td>\n",
       "      <td>-0.002294</td>\n",
       "      <td>-0.002251</td>\n",
       "    </tr>\n",
       "    <tr>\n",
       "      <th>k-means</th>\n",
       "      <td>-0.002084</td>\n",
       "      <td>-0.002294</td>\n",
       "      <td>-0.002251</td>\n",
       "    </tr>\n",
       "  </tbody>\n",
       "</table>\n",
       "</div>"
      ],
      "text/plain": [
       "               RF        LR       kNN\n",
       "ignore   0.000000  0.000000  0.000000\n",
       "special -0.007798 -0.000866 -0.002251\n",
       "common  -0.006369 -0.002294 -0.002251\n",
       "svd     -0.004941 -0.002294 -0.002251\n",
       "knn     -0.002084 -0.002294 -0.002251\n",
       "rf      -0.004941 -0.002294 -0.002251\n",
       "lr      -0.002084 -0.002294 -0.002251\n",
       "em      -0.002084 -0.002294 -0.002251\n",
       "k-means -0.002084 -0.002294 -0.002251"
      ]
     },
     "execution_count": 64,
     "metadata": {},
     "output_type": "execute_result"
    }
   ],
   "source": [
    "res_cancer - res_cancer.max(axis=0)"
   ]
  },
  {
   "cell_type": "markdown",
   "metadata": {
    "collapsed": true
   },
   "source": [
    "### Сравним для разных долей пропущенных значений.\n",
    "\n",
    "Пропущенные значения для всех объектов в _половине_ признаков. "
   ]
  },
  {
   "cell_type": "code",
   "execution_count": 65,
   "metadata": {
    "collapsed": true
   },
   "outputs": [],
   "source": [
    "missing_frac_range = [0.05, 0.1, 0.15, 0.2, 0.25]\n",
    "num_iter = 3"
   ]
  },
  {
   "cell_type": "code",
   "execution_count": 66,
   "metadata": {
    "collapsed": true
   },
   "outputs": [],
   "source": [
    "clf = RandomForestClassifier(n_jobs=-1, random_state=666)"
   ]
  },
  {
   "cell_type": "code",
   "execution_count": 69,
   "metadata": {
    "collapsed": true
   },
   "outputs": [],
   "source": [
    "krkp_accuracy_special = []\n",
    "krkp_accuracy_common  = []\n",
    "krkp_accuracy_svd     = []\n",
    "krkp_accuracy_knn     = []\n",
    "krkp_accuracy_rf      = []\n",
    "krkp_accuracy_lr      = []\n",
    "krkp_accuracy_em      = []\n",
    "krkp_accuracy_km      = []\n",
    "\n",
    "krkp_rmse_special = []\n",
    "krkp_rmse_common  = []\n",
    "krkp_rmse_svd     = []\n",
    "krkp_rmse_knn     = []\n",
    "krkp_rmse_rf      = []\n",
    "krkp_rmse_lr      = []\n",
    "krkp_rmse_em      = []\n",
    "krkp_rmse_km      = []\n",
    "\n",
    "creditg_accuracy_special = []\n",
    "creditg_accuracy_common  = []\n",
    "creditg_accuracy_svd     = []\n",
    "creditg_accuracy_knn     = []\n",
    "creditg_accuracy_rf      = []\n",
    "creditg_accuracy_lr      = []\n",
    "creditg_accuracy_em      = []\n",
    "creditg_accuracy_km      = []\n",
    "\n",
    "creditg_rmse_special = []\n",
    "creditg_rmse_common  = []\n",
    "creditg_rmse_svd     = []\n",
    "creditg_rmse_knn     = []\n",
    "creditg_rmse_rf      = []\n",
    "creditg_rmse_lr      = []\n",
    "creditg_rmse_em      = []\n",
    "creditg_rmse_km      = []\n",
    "\n",
    "segment_accuracy_special = []\n",
    "segment_accuracy_common  = []\n",
    "segment_accuracy_svd     = []\n",
    "segment_accuracy_knn     = []\n",
    "segment_accuracy_rf      = []\n",
    "segment_accuracy_lr      = []\n",
    "segment_accuracy_em      = []\n",
    "segment_accuracy_km      = []\n",
    "\n",
    "segment_rmse_special = []\n",
    "segment_rmse_common  = []\n",
    "segment_rmse_svd     = []\n",
    "segment_rmse_knn     = []\n",
    "segment_rmse_rf      = []\n",
    "segment_rmse_lr      = []\n",
    "segment_rmse_em      = []\n",
    "segment_rmse_km      = []"
   ]
  },
  {
   "cell_type": "code",
   "execution_count": 70,
   "metadata": {
    "collapsed": false,
    "scrolled": false
   },
   "outputs": [],
   "source": [
    "for missing_frac in missing_frac_range:\n",
    "    for iteration in range(num_iter):\n",
    "        krkp_del    = random_deletion.make_missing_value(krkp,    del_fraction=missing_frac, del_fraction_column=0.5)\n",
    "        creditg_del = random_deletion.make_missing_value(creditg, del_fraction=missing_frac, del_fraction_column=0.5)\n",
    "        segment_del = random_deletion.make_missing_value(segment, del_fraction=missing_frac, del_fraction_column=0.5)\n",
    "        \n",
    "        # special value\n",
    "        krkp_tmp    = imputers.special_value_imputer(krkp_del)\n",
    "        creditg_tmp = imputers.special_value_imputer(creditg_del)\n",
    "        segment_tmp = imputers.special_value_imputer(segment_del)\n",
    "        accuracy_krkp    = np.mean(cross_val_score(clf, krkp_tmp,    krkp_y,    scoring='accuracy', cv=krkp_cv))\n",
    "        accuracy_creditg = np.mean(cross_val_score(clf, creditg_tmp, creditg_y, scoring='accuracy', cv=creditg_cv))\n",
    "        accuracy_segment = np.mean(cross_val_score(clf, segment_tmp, segment_y, scoring='accuracy', cv=segment_cv))\n",
    "        rmse_krkp    = np.sum((krkp    - krkp_tmp)    ** 2) ** 0.5\n",
    "        rmse_creditg = np.sum((creditg - creditg_tmp) ** 2) ** 0.5\n",
    "        rmse_segment = np.sum((segment - segment_tmp) ** 2) ** 0.5\n",
    "        if iteration == 0:\n",
    "            krkp_accuracy_special.append(accuracy_krkp / num_iter)\n",
    "            creditg_accuracy_special.append(accuracy_creditg / num_iter)\n",
    "            segment_accuracy_special.append(accuracy_segment / num_iter)\n",
    "            krkp_rmse_special.append(rmse_krkp / num_iter)\n",
    "            creditg_rmse_special.append(rmse_creditg / num_iter)\n",
    "            segment_rmse_special.append(rmse_segment / num_iter)\n",
    "        else:\n",
    "            krkp_accuracy_special[-1]    += accuracy_krkp    / num_iter\n",
    "            creditg_accuracy_special[-1] += accuracy_creditg / num_iter\n",
    "            segment_accuracy_special[-1] += accuracy_segment / num_iter\n",
    "            krkp_rmse_special[-1]    += rmse_krkp    / num_iter\n",
    "            creditg_rmse_special[-1] += rmse_creditg / num_iter\n",
    "            segment_rmse_special[-1] += rmse_segment / num_iter\n",
    "            \n",
    "        # common value\n",
    "        krkp_tmp    = imputers.common_value_imputer(krkp_del,    krkp_mask)\n",
    "        creditg_tmp = imputers.common_value_imputer(creditg_del, creditg_mask)\n",
    "        segment_tmp = imputers.common_value_imputer(segment_del, segment_mask)\n",
    "        accuracy_krkp    = np.mean(cross_val_score(clf, krkp_tmp,    krkp_y,    scoring='accuracy', cv=krkp_cv))\n",
    "        accuracy_creditg = np.mean(cross_val_score(clf, creditg_tmp, creditg_y, scoring='accuracy', cv=creditg_cv))\n",
    "        accuracy_segment = np.mean(cross_val_score(clf, segment_tmp, segment_y, scoring='accuracy', cv=segment_cv))\n",
    "        rmse_krkp    = np.sum((krkp    - krkp_tmp)    ** 2) ** 0.5\n",
    "        rmse_creditg = np.sum((creditg - creditg_tmp) ** 2) ** 0.5\n",
    "        rmse_segment = np.sum((segment - segment_tmp) ** 2) ** 0.5\n",
    "        if iteration == 0:\n",
    "            krkp_accuracy_common.append(accuracy_krkp / num_iter)\n",
    "            creditg_accuracy_common.append(accuracy_creditg / num_iter)\n",
    "            segment_accuracy_common.append(accuracy_segment / num_iter)\n",
    "            krkp_rmse_common.append(rmse_krkp / num_iter)\n",
    "            creditg_rmse_common.append(rmse_creditg / num_iter)\n",
    "            segment_rmse_common.append(rmse_segment / num_iter)\n",
    "        else:\n",
    "            krkp_accuracy_common[-1]    += accuracy_krkp    / num_iter\n",
    "            creditg_accuracy_common[-1] += accuracy_creditg / num_iter\n",
    "            segment_accuracy_common[-1] += accuracy_segment / num_iter\n",
    "            krkp_rmse_common[-1]    += rmse_krkp    / num_iter\n",
    "            creditg_rmse_common[-1] += rmse_creditg / num_iter\n",
    "            segment_rmse_common[-1] += rmse_segment / num_iter\n",
    "            \n",
    "        # svd\n",
    "        krkp_tmp    = imputers.svd_imputer(krkp_del,    krkp_mask,    rank=20)\n",
    "        creditg_tmp = imputers.svd_imputer(creditg_del, creditg_mask, rank=20)\n",
    "        segment_tmp = imputers.svd_imputer(segment_del, segment_mask, rank=20)\n",
    "        accuracy_krkp    = np.mean(cross_val_score(clf, krkp_tmp,    krkp_y,    scoring='accuracy', cv=krkp_cv))\n",
    "        accuracy_creditg = np.mean(cross_val_score(clf, creditg_tmp, creditg_y, scoring='accuracy', cv=creditg_cv))\n",
    "        accuracy_segment = np.mean(cross_val_score(clf, segment_tmp, segment_y, scoring='accuracy', cv=segment_cv))\n",
    "        rmse_krkp    = np.sum((krkp    - krkp_tmp)    ** 2) ** 0.5\n",
    "        rmse_creditg = np.sum((creditg - creditg_tmp) ** 2) ** 0.5\n",
    "        rmse_segment = np.sum((segment - segment_tmp) ** 2) ** 0.5\n",
    "        if iteration == 0:\n",
    "            krkp_accuracy_svd.append(accuracy_krkp / num_iter)\n",
    "            creditg_accuracy_svd.append(accuracy_creditg / num_iter)\n",
    "            segment_accuracy_svd.append(accuracy_segment / num_iter)\n",
    "            krkp_rmse_svd.append(rmse_krkp / num_iter)\n",
    "            creditg_rmse_svd.append(rmse_creditg / num_iter)\n",
    "            segment_rmse_svd.append(rmse_segment / num_iter)\n",
    "        else:\n",
    "            krkp_accuracy_svd[-1]    += accuracy_krkp    / num_iter\n",
    "            creditg_accuracy_svd[-1] += accuracy_creditg / num_iter\n",
    "            segment_accuracy_svd[-1] += accuracy_segment / num_iter\n",
    "            krkp_rmse_svd[-1]    += rmse_krkp    / num_iter\n",
    "            creditg_rmse_svd[-1] += rmse_creditg / num_iter\n",
    "            segment_rmse_svd[-1] += rmse_segment / num_iter\n",
    "            \n",
    "        # knn\n",
    "        krkp_tmp    = imputers.knn_imputer(krkp_del,    krkp_mask,    n_neighbors=5)\n",
    "        creditg_tmp = imputers.knn_imputer(creditg_del, creditg_mask, n_neighbors=5)\n",
    "        segment_tmp = imputers.knn_imputer(segment_del, segment_mask, n_neighbors=5)\n",
    "        accuracy_krkp    = np.mean(cross_val_score(clf, krkp_tmp,    krkp_y,    scoring='accuracy', cv=krkp_cv))\n",
    "        accuracy_creditg = np.mean(cross_val_score(clf, creditg_tmp, creditg_y, scoring='accuracy', cv=creditg_cv))\n",
    "        accuracy_segment = np.mean(cross_val_score(clf, segment_tmp, segment_y, scoring='accuracy', cv=segment_cv))\n",
    "        rmse_krkp    = np.sum((krkp    - krkp_tmp)    ** 2) ** 0.5\n",
    "        rmse_creditg = np.sum((creditg - creditg_tmp) ** 2) ** 0.5\n",
    "        rmse_segment = np.sum((segment - segment_tmp) ** 2) ** 0.5\n",
    "        if iteration == 0:\n",
    "            krkp_accuracy_knn.append(accuracy_krkp / num_iter)\n",
    "            creditg_accuracy_knn.append(accuracy_creditg / num_iter)\n",
    "            segment_accuracy_knn.append(accuracy_segment / num_iter)\n",
    "            krkp_rmse_knn.append(rmse_krkp / num_iter)\n",
    "            creditg_rmse_knn.append(rmse_creditg / num_iter)\n",
    "            segment_rmse_knn.append(rmse_segment / num_iter)\n",
    "        else:\n",
    "            krkp_accuracy_knn[-1]    += accuracy_krkp    / num_iter\n",
    "            creditg_accuracy_knn[-1] += accuracy_creditg / num_iter\n",
    "            segment_accuracy_knn[-1] += accuracy_segment / num_iter\n",
    "            krkp_rmse_knn[-1]    += rmse_krkp    / num_iter\n",
    "            creditg_rmse_knn[-1] += rmse_creditg / num_iter\n",
    "            segment_rmse_knn[-1] += rmse_segment / num_iter\n",
    "            \n",
    "        # rf\n",
    "        krkp_tmp    = imputers.rf_imputer(krkp_del,    krkp_mask)\n",
    "        creditg_tmp = imputers.rf_imputer(creditg_del, creditg_mask)\n",
    "        segment_tmp = imputers.rf_imputer(segment_del, segment_mask)\n",
    "        accuracy_krkp    = np.mean(cross_val_score(clf, krkp_tmp,    krkp_y,    scoring='accuracy', cv=krkp_cv))\n",
    "        accuracy_creditg = np.mean(cross_val_score(clf, creditg_tmp, creditg_y, scoring='accuracy', cv=creditg_cv))\n",
    "        accuracy_segment = np.mean(cross_val_score(clf, segment_tmp, segment_y, scoring='accuracy', cv=segment_cv))\n",
    "        rmse_krkp    = np.sum((krkp    - krkp_tmp)    ** 2) ** 0.5\n",
    "        rmse_creditg = np.sum((creditg - creditg_tmp) ** 2) ** 0.5\n",
    "        rmse_segment = np.sum((segment - segment_tmp) ** 2) ** 0.5\n",
    "        if iteration == 0:\n",
    "            krkp_accuracy_rf.append(accuracy_krkp / num_iter)\n",
    "            creditg_accuracy_rf.append(accuracy_creditg / num_iter)\n",
    "            segment_accuracy_rf.append(accuracy_segment / num_iter)\n",
    "            krkp_rmse_rf.append(rmse_krkp / num_iter)\n",
    "            creditg_rmse_rf.append(rmse_creditg / num_iter)\n",
    "            segment_rmse_rf.append(rmse_segment / num_iter)\n",
    "        else:\n",
    "            krkp_accuracy_rf[-1]    += accuracy_krkp    / num_iter\n",
    "            creditg_accuracy_rf[-1] += accuracy_creditg / num_iter\n",
    "            segment_accuracy_rf[-1] += accuracy_segment / num_iter\n",
    "            krkp_rmse_rf[-1]    += rmse_krkp    / num_iter\n",
    "            creditg_rmse_rf[-1] += rmse_creditg / num_iter\n",
    "            segment_rmse_rf[-1] += rmse_segment / num_iter\n",
    "            \n",
    "        # lr\n",
    "        krkp_tmp    = imputers.linear_imputer(krkp_del,    krkp_mask)\n",
    "        creditg_tmp = imputers.linear_imputer(creditg_del, creditg_mask)\n",
    "        segment_tmp = imputers.linear_imputer(segment_del, segment_mask)\n",
    "        accuracy_krkp    = np.mean(cross_val_score(clf, krkp_tmp,    krkp_y,    scoring='accuracy', cv=krkp_cv))\n",
    "        accuracy_creditg = np.mean(cross_val_score(clf, creditg_tmp, creditg_y, scoring='accuracy', cv=creditg_cv))\n",
    "        accuracy_segment = np.mean(cross_val_score(clf, segment_tmp, segment_y, scoring='accuracy', cv=segment_cv))\n",
    "        rmse_krkp    = np.sum((krkp    - krkp_tmp)    ** 2) ** 0.5\n",
    "        rmse_creditg = np.sum((creditg - creditg_tmp) ** 2) ** 0.5\n",
    "        rmse_segment = np.sum((segment - segment_tmp) ** 2) ** 0.5\n",
    "        if iteration == 0:\n",
    "            krkp_accuracy_lr.append(accuracy_krkp / num_iter)\n",
    "            creditg_accuracy_lr.append(accuracy_creditg / num_iter)\n",
    "            segment_accuracy_lr.append(accuracy_segment / num_iter)\n",
    "            krkp_rmse_lr.append(rmse_krkp / num_iter)\n",
    "            creditg_rmse_lr.append(rmse_creditg / num_iter)\n",
    "            segment_rmse_lr.append(rmse_segment / num_iter)\n",
    "        else:\n",
    "            krkp_accuracy_lr[-1]    += accuracy_krkp    / num_iter\n",
    "            creditg_accuracy_lr[-1] += accuracy_creditg / num_iter\n",
    "            segment_accuracy_lr[-1] += accuracy_segment / num_iter\n",
    "            krkp_rmse_lr[-1]    += rmse_krkp    / num_iter\n",
    "            creditg_rmse_lr[-1] += rmse_creditg / num_iter\n",
    "            segment_rmse_lr[-1] += rmse_segment / num_iter\n",
    "            \n",
    "        # em\n",
    "        krkp_tmp    = imputers.em_imputer(krkp_del,    krkp_mask)\n",
    "        creditg_tmp = imputers.em_imputer(creditg_del, creditg_mask)\n",
    "        segment_tmp = imputers.em_imputer(segment_del, segment_mask)\n",
    "        accuracy_krkp    = np.mean(cross_val_score(clf, krkp_tmp,    krkp_y,    scoring='accuracy', cv=krkp_cv))\n",
    "        accuracy_creditg = np.mean(cross_val_score(clf, creditg_tmp, creditg_y, scoring='accuracy', cv=creditg_cv))\n",
    "        accuracy_segment = np.mean(cross_val_score(clf, segment_tmp, segment_y, scoring='accuracy', cv=segment_cv))\n",
    "        rmse_krkp    = np.sum((krkp    - krkp_tmp)    ** 2) ** 0.5\n",
    "        rmse_creditg = np.sum((creditg - creditg_tmp) ** 2) ** 0.5\n",
    "        rmse_segment = np.sum((segment - segment_tmp) ** 2) ** 0.5\n",
    "        if iteration == 0:\n",
    "            krkp_accuracy_em.append(accuracy_krkp / num_iter)\n",
    "            creditg_accuracy_em.append(accuracy_creditg / num_iter)\n",
    "            segment_accuracy_em.append(accuracy_segment / num_iter)\n",
    "            krkp_rmse_em.append(rmse_krkp / num_iter)\n",
    "            creditg_rmse_em.append(rmse_creditg / num_iter)\n",
    "            segment_rmse_em.append(rmse_segment / num_iter)\n",
    "        else:\n",
    "            krkp_accuracy_em[-1]    += accuracy_krkp    / num_iter\n",
    "            creditg_accuracy_em[-1] += accuracy_creditg / num_iter\n",
    "            segment_accuracy_em[-1] += accuracy_segment / num_iter\n",
    "            krkp_rmse_em[-1]    += rmse_krkp    / num_iter\n",
    "            creditg_rmse_em[-1] += rmse_creditg / num_iter\n",
    "            segment_rmse_em[-1] += rmse_segment / num_iter\n",
    "            \n",
    "        # km\n",
    "        krkp_tmp    = imputers.kmean_imputer(krkp_del,    krkp_mask)\n",
    "        creditg_tmp = imputers.kmean_imputer(creditg_del, creditg_mask)\n",
    "        segment_tmp = imputers.kmean_imputer(segment_del, segment_mask)\n",
    "        accuracy_krkp    = np.mean(cross_val_score(clf, krkp_tmp,    krkp_y,    scoring='accuracy', cv=krkp_cv))\n",
    "        accuracy_creditg = np.mean(cross_val_score(clf, creditg_tmp, creditg_y, scoring='accuracy', cv=creditg_cv))\n",
    "        accuracy_segment = np.mean(cross_val_score(clf, segment_tmp, segment_y, scoring='accuracy', cv=segment_cv))\n",
    "        rmse_krkp    = np.sum((krkp    - krkp_tmp)    ** 2) ** 0.5\n",
    "        rmse_creditg = np.sum((creditg - creditg_tmp) ** 2) ** 0.5\n",
    "        rmse_segment = np.sum((segment - segment_tmp) ** 2) ** 0.5\n",
    "        if iteration == 0:\n",
    "            krkp_accuracy_km.append(accuracy_krkp / num_iter)\n",
    "            creditg_accuracy_km.append(accuracy_creditg / num_iter)\n",
    "            segment_accuracy_km.append(accuracy_segment / num_iter)\n",
    "            krkp_rmse_km.append(rmse_krkp / num_iter)\n",
    "            creditg_rmse_km.append(rmse_creditg / num_iter)\n",
    "            segment_rmse_km.append(rmse_segment / num_iter)\n",
    "        else:\n",
    "            krkp_accuracy_km[-1]    += accuracy_krkp    / num_iter\n",
    "            creditg_accuracy_km[-1] += accuracy_creditg / num_iter\n",
    "            segment_accuracy_km[-1] += accuracy_segment / num_iter\n",
    "            krkp_rmse_km[-1]    += rmse_krkp    / num_iter\n",
    "            creditg_rmse_km[-1] += rmse_creditg / num_iter\n",
    "            segment_rmse_km[-1] += rmse_segment / num_iter"
   ]
  },
  {
   "cell_type": "code",
   "execution_count": 78,
   "metadata": {
    "collapsed": false,
    "scrolled": false
   },
   "outputs": [
    {
     "data": {
      "image/png": "[encoded data removed]",
      "text/plain": [
       "<matplotlib.figure.Figure at 0x109dbb048>"
      ]
     },
     "metadata": {},
     "output_type": "display_data"
    }
   ],
   "source": [
    "plt.figure(figsize=(18, 5))\n",
    "\n",
    "plt.subplot(1, 3, 1)\n",
    "plt.title(\"Accuracy (krkp).\")\n",
    "plt.plot(missing_frac_range, krkp_accuracy_special, 'ro-', label='special', lw=1)\n",
    "plt.plot(missing_frac_range, krkp_accuracy_common,  'go-', label='common', lw=1)\n",
    "plt.plot(missing_frac_range, krkp_accuracy_svd,     'yo-', label='svd', lw=1)\n",
    "plt.plot(missing_frac_range, krkp_accuracy_knn,     'co-', label='knn', lw=1)\n",
    "plt.plot(missing_frac_range, krkp_accuracy_rf,      'bo-', label='rf', lw=1)\n",
    "plt.plot(missing_frac_range, krkp_accuracy_lr,      'mo-', label='lr', lw=1)\n",
    "plt.plot(missing_frac_range, krkp_accuracy_em,      'o-',  color='#4C479B', label='em', lw=1)\n",
    "plt.plot(missing_frac_range, krkp_accuracy_km,      'o-',  color='#8A702A', label='km', lw=1)\n",
    "plt.legend(loc='lower left')\n",
    "plt.xlabel(\"Missing value fraction\")\n",
    "plt.ylabel(\"Accuracy\")\n",
    "\n",
    "plt.subplot(1, 3, 2)\n",
    "plt.title(\"Accuracy (creditg).\")\n",
    "plt.plot(missing_frac_range, creditg_accuracy_special, 'ro-', label='special', lw=1)\n",
    "plt.plot(missing_frac_range, creditg_accuracy_common,  'go-', label='common', lw=1)\n",
    "plt.plot(missing_frac_range, creditg_accuracy_svd,     'yo-', label='svd', lw=1)\n",
    "plt.plot(missing_frac_range, creditg_accuracy_knn,     'co-', label='knn', lw=1)\n",
    "plt.plot(missing_frac_range, creditg_accuracy_rf,      'bo-', label='rf', lw=1)\n",
    "plt.plot(missing_frac_range, creditg_accuracy_lr,      'mo-', label='lr', lw=1)\n",
    "plt.plot(missing_frac_range, creditg_accuracy_em,      'o-',  color='#4C479B', label='em', lw=1)\n",
    "plt.plot(missing_frac_range, creditg_accuracy_km,      'o-',  color='#8A702A', label='km', lw=1)\n",
    "plt.legend(loc='lower left')\n",
    "plt.xlabel(\"Missing value fraction\")\n",
    "plt.ylabel(\"Accuracy\")\n",
    "\n",
    "plt.subplot(1, 3, 3)\n",
    "plt.title(\"Accuracy (segment).\")\n",
    "plt.plot(missing_frac_range, segment_accuracy_special, 'ro-', label='special', lw=1)\n",
    "plt.plot(missing_frac_range, segment_accuracy_common,  'go-', label='common', lw=1)\n",
    "plt.plot(missing_frac_range, segment_accuracy_svd,     'yo-', label='svd', lw=1)\n",
    "plt.plot(missing_frac_range, segment_accuracy_knn,     'co-', label='knn', lw=1)\n",
    "plt.plot(missing_frac_range, segment_accuracy_rf,      'bo-', label='rf', lw=1)\n",
    "plt.plot(missing_frac_range, segment_accuracy_lr,      'mo-', label='lr', lw=1)\n",
    "plt.plot(missing_frac_range, segment_accuracy_em,      'o-',  color='#4C479B', label='em', lw=1)\n",
    "plt.plot(missing_frac_range, segment_accuracy_km,      'o-',  color='#8A702A', label='km', lw=1)\n",
    "plt.legend(loc='lower left')\n",
    "plt.xlabel(\"Missing value fraction\")\n",
    "plt.ylabel(\"Accuracy\")\n",
    "\n",
    "plt.show()"
   ]
  },
  {
   "cell_type": "code",
   "execution_count": 79,
   "metadata": {
    "collapsed": false
   },
   "outputs": [
    {
     "data": {
      "image/png": "[encoded data removed]",
      "text/plain": [
       "<matplotlib.figure.Figure at 0x109c97a58>"
      ]
     },
     "metadata": {},
     "output_type": "display_data"
    }
   ],
   "source": [
    "plt.figure(figsize=(18, 5))\n",
    "\n",
    "plt.subplot(1, 3, 1)\n",
    "plt.title(\"RMSE (krkp).\")\n",
    "plt.plot(missing_frac_range, krkp_rmse_special, 'ro-', label='special', lw=1)\n",
    "plt.plot(missing_frac_range, krkp_rmse_common,  'go-', label='common', lw=1)\n",
    "plt.plot(missing_frac_range, krkp_rmse_svd,     'yo-', label='svd', lw=1)\n",
    "plt.plot(missing_frac_range, krkp_rmse_knn,     'co-', label='knn', lw=1)\n",
    "plt.plot(missing_frac_range, krkp_rmse_rf,      'bo-', label='rf', lw=1)\n",
    "plt.plot(missing_frac_range, krkp_rmse_lr,      'mo-', label='lr', lw=1)\n",
    "plt.plot(missing_frac_range, krkp_rmse_em,      'o-',  color='#4C479B', label='em', lw=1)\n",
    "plt.plot(missing_frac_range, krkp_rmse_km,      'o-',  color='#8A702A', label='km', lw=1)\n",
    "plt.legend(loc='upper left')\n",
    "plt.xlabel(\"Missing value fraction\")\n",
    "plt.ylabel(\"RMSE\")\n",
    "\n",
    "plt.subplot(1, 3, 2)\n",
    "plt.title(\"RMSE (creditg).\")\n",
    "plt.plot(missing_frac_range, creditg_rmse_special, 'ro-', label='special', lw=1)\n",
    "plt.plot(missing_frac_range, creditg_rmse_common,  'go-', label='common', lw=1)\n",
    "plt.plot(missing_frac_range, creditg_rmse_svd,     'yo-', label='svd', lw=1)\n",
    "plt.plot(missing_frac_range, creditg_rmse_knn,     'co-', label='knn', lw=1)\n",
    "plt.plot(missing_frac_range, creditg_rmse_rf,      'bo-', label='rf', lw=1)\n",
    "plt.plot(missing_frac_range, creditg_rmse_lr,      'mo-', label='lr', lw=1)\n",
    "plt.plot(missing_frac_range, creditg_rmse_em,      'o-',  color='#4C479B', label='em', lw=1)\n",
    "plt.plot(missing_frac_range, creditg_rmse_km,      'o-',  color='#8A702A', label='kn', lw=1)\n",
    "plt.legend(loc='upper left')\n",
    "plt.xlabel(\"Missing value fraction\")\n",
    "plt.ylabel(\"RMSE\")\n",
    "\n",
    "plt.subplot(1, 3, 3)\n",
    "plt.title(\"RMSE (segment).\")\n",
    "plt.plot(missing_frac_range, segment_rmse_special, 'ro-', label='special', lw=1)\n",
    "plt.plot(missing_frac_range, segment_rmse_common,  'go-', label='common', lw=1)\n",
    "plt.plot(missing_frac_range, segment_rmse_svd,     'yo-', label='svd', lw=1)\n",
    "plt.plot(missing_frac_range, segment_rmse_knn,     'co-', label='knn', lw=1)\n",
    "plt.plot(missing_frac_range, segment_rmse_rf,      'bo-', label='rf', lw=1)\n",
    "plt.plot(missing_frac_range, segment_rmse_lr,      'mo-', label='lr', lw=1)\n",
    "plt.plot(missing_frac_range, segment_rmse_em,      'o-',  color='#4C479B', label='em', lw=1)\n",
    "plt.plot(missing_frac_range, segment_rmse_km,      'o-',  color='#8A702A', label='kn', lw=1)\n",
    "plt.legend(loc='upper left')\n",
    "plt.xlabel(\"Missing value fraction\")\n",
    "plt.ylabel(\"RMSE\")\n",
    "\n",
    "plt.show()"
   ]
  },
  {
   "cell_type": "code",
   "execution_count": null,
   "metadata": {
    "collapsed": true
   },
   "outputs": [],
   "source": []
  }
 ],
 "metadata": {
  "kernelspec": {
   "display_name": "Python 3",
   "language": "python",
   "name": "python3"
  },
  "language_info": {
   "codemirror_mode": {
    "name": "ipython",
    "version": 3
   },
   "file_extension": ".py",
   "mimetype": "text/x-python",
   "name": "python",
   "nbconvert_exporter": "python",
   "pygments_lexer": "ipython3",
   "version": "3.5.1"
  }
 },
 "nbformat": 4,
 "nbformat_minor": 0
}
